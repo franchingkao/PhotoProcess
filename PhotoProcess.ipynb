{
 "cells": [
  {
   "cell_type": "markdown",
   "metadata": {},
   "source": [
    "# 圖片自動化後製處理\n",
    "1.設定輸出照片大小與來源資料位置<br>\n",
    "2.始以「照片中的非(255,255,255)之位置」判斷商品主體的位置，並擷取該影像<br>\n",
    "3.判斷擷取影像的長短邊<br>\n",
    "4.依照設定的邊框像素大小補足長邊<br>\n",
    "5.將剩餘短邊以白底背景填滿成#1輸入的正方形大小"
   ]
  },
  {
   "cell_type": "code",
   "execution_count": 22,
   "metadata": {},
   "outputs": [
    {
     "name": "stdout",
     "output_type": "stream",
     "text": [
      "輸出照片大小(正方形)：(Ex:200)1000\n",
      "來源資料夾路徑：C:\\Users\\晴\\Desktop\\研究所\\others\\try\n"
     ]
    }
   ],
   "source": [
    "import cv2\n",
    "import os\n",
    "import glob\n",
    "import numpy as np\n",
    "\n",
    "#設定輸出照片大小及資料來源\n",
    "size = int(input(\"輸出照片大小(正方形)：(Ex:200)\"))\n",
    "root_path = input(\"來源資料夾路徑：\").encode('utf8') \n",
    "img_list = os.listdir(root_path.decode('utf8'))"
   ]
  },
  {
   "cell_type": "code",
   "execution_count": 23,
   "metadata": {},
   "outputs": [
    {
     "name": "stdout",
     "output_type": "stream",
     "text": [
      "儲存資料夾路徑：C:\\Users\\晴\\Desktop\\研究所\\others\\tryre\n",
      "make direction\n"
     ]
    }
   ],
   "source": [
    "#建立儲存路徑\n",
    "save_path = input(\"儲存資料夾路徑：\")\n",
    "if not os.path.exists(save_path):\n",
    "    os.mkdir(save_path)\n",
    "    print('make direction')\n",
    "save_path = save_path.encode('utf8')\n",
    "\n",
    "#設定留邊像素\n",
    "x = int(size * .15) "
   ]
  },
  {
   "cell_type": "code",
   "execution_count": 24,
   "metadata": {},
   "outputs": [
    {
     "data": {
      "application/vnd.jupyter.widget-view+json": {
       "model_id": "c4b31093eb6946e18b33fec096127984",
       "version_major": 2,
       "version_minor": 0
      },
      "text/plain": [
       "HBox(children=(FloatProgress(value=0.0, max=6.0), HTML(value='')))"
      ]
     },
     "metadata": {},
     "output_type": "display_data"
    },
    {
     "name": "stdout",
     "output_type": "stream",
     "text": [
      "978833.png is not a .jpg/.png file.\n",
      "978835.png is not a .jpg/.png file.\n",
      "978841.png is not a .jpg/.png file.\n",
      "979000.png is not a .jpg/.png file.\n",
      "\n"
     ]
    }
   ],
   "source": [
    "from tqdm.notebook import tqdm\n",
    "for i in tqdm(range(len(img_list))):\n",
    "    #判斷影像序列中是不是全部都是影像，如果不是，跳過\n",
    "    if not img_list[i].split('.')[-1] == 'jpg' or img_list[i].split('.')[-1] == 'png': \n",
    "        print(str(img_list[i]) + ' is not a .jpg/.png file.')\n",
    "        continue\n",
    "        \n",
    "    full_path = os.path.join(root_path.decode('utf8'), img_list[i])\n",
    "    now_img = cv2.imdecode(np.fromfile(full_path, dtype=np.uint8), cv2.IMREAD_COLOR)\n",
    "    \n",
    "    #找到X軸與Y軸最大跟最小哪邊不是白色的地方\n",
    "    Ymin = np.min(np.where(now_img!=255)[0])\n",
    "    Ymax = np.max(np.where(now_img!=255)[0])\n",
    "    Xmin = np.min(np.where(now_img!=255)[1])\n",
    "    Xmax = np.max(np.where(now_img!=255)[1])\n",
    "       \n",
    "    cropped_img = now_img[Ymin:Ymax, Xmin:Xmax]\n",
    "    #cv2.copyMakeBoreder(輸入影像, 上, 下, 左, 右, 模式, 填充影像像素)\n",
    "    cropped_img = cv2.copyMakeBorder(\n",
    "        cropped_img, x , x , x , x , cv2.BORDER_CONSTANT, value=(255, 255, 255)\n",
    "    )\n",
    "    "
   ]
  },
  {
   "cell_type": "code",
   "execution_count": 25,
   "metadata": {
    "scrolled": true
   },
   "outputs": [],
   "source": [
    "\n",
    "    height, width, _ = cropped_img.shape\n",
    "    \n",
    "    #先判斷影像是哪一邊長，判斷完後針對長邊與短邊的差除以二，再針對短邊做補償\n",
    "    if height > width: \n",
    "        #因為使用整除2的關係，如果被除數是1的話，除完之後compensate還會是1，故會有一邊多出1個pixel，影像就不是正方形\n",
    "        compensate = (height - width) // 2 \n",
    "        cropped_img = cv2.copyMakeBorder(\n",
    "            cropped_img, 0, 0, compensate, compensate, cv2.BORDER_CONSTANT, value=(255, 255, 255)\n",
    "        )\n",
    "    elif height < width:\n",
    "        compensate = (width - height) // 2\n",
    "        cropped_img = cv2.copyMakeBorder(\n",
    "            cropped_img, compensate, compensate, 0, 0, cv2.BORDER_CONSTANT, value=(255, 255, 255)\n",
    "        )\n",
    "\n",
    "    #如果影像不是正方形的，針對短邊補償1個pixel\n",
    "    if cropped_img.shape[0] > cropped_img.shape[1]: \n",
    "        cropped_img = cv2.copyMakeBorder(\n",
    "            cropped_img, 0, 0, 1, 0, cv2.BORDER_CONSTANT, value=(255, 255, 255)\n",
    "        )\n",
    "    elif cropped_img.shape[0] < cropped_img.shape[1]:\n",
    "        cropped_img = cv2.copyMakeBorder(\n",
    "            cropped_img, 1, 0, 0, 0, cv2.BORDER_CONSTANT, value=(255, 255, 255)\n",
    "        )\n",
    "        \n",
    "    #把影像Resize成某個大小\n",
    "    cropped_img = cv2.resize(cropped_img, (size, size))\n",
    "        \n",
    "    cv2.imencode('.jpg', cropped_img)[1].tofile(os.path.join(save_path.decode('utf8'), img_list[i]))"
   ]
  }
 ],
 "metadata": {
  "kernelspec": {
   "display_name": "Python 3",
   "language": "python",
   "name": "python3"
  },
  "language_info": {
   "codemirror_mode": {
    "name": "ipython",
    "version": 3
   },
   "file_extension": ".py",
   "mimetype": "text/x-python",
   "name": "python",
   "nbconvert_exporter": "python",
   "pygments_lexer": "ipython3",
   "version": "3.7.6"
  }
 },
 "nbformat": 4,
 "nbformat_minor": 4
}
